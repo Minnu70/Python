{
  "nbformat": 4,
  "nbformat_minor": 0,
  "metadata": {
    "colab": {
      "provenance": [],
      "authorship_tag": "ABX9TyM6J6RqzO/zS09OuJLQT1XM",
      "include_colab_link": true
    },
    "kernelspec": {
      "name": "python3",
      "display_name": "Python 3"
    },
    "language_info": {
      "name": "python"
    }
  },
  "cells": [
    {
      "cell_type": "markdown",
      "metadata": {
        "id": "view-in-github",
        "colab_type": "text"
      },
      "source": [
        "<a href=\"https://colab.research.google.com/github/Minnu70/Python/blob/main/python%20notes.ipynb\" target=\"_parent\"><img src=\"https://colab.research.google.com/assets/colab-badge.svg\" alt=\"Open In Colab\"/></a>"
      ]
    },
    {
      "cell_type": "code",
      "execution_count": 1,
      "metadata": {
        "colab": {
          "base_uri": "https://localhost:8080/"
        },
        "id": "YKwpms3QytaZ",
        "outputId": "99f64d41-d9be-4ef8-f147-cc3cadd0d1da"
      },
      "outputs": [
        {
          "output_type": "stream",
          "name": "stdout",
          "text": [
            "b\n",
            "a\n",
            "n\n",
            "a\n",
            "n\n",
            "a\n"
          ]
        }
      ],
      "source": [
        "for x in 'banana':\n",
        "  print(x)"
      ]
    },
    {
      "cell_type": "code",
      "source": [
        "txt = \"The best things in life are free!\"\n",
        "print(\"expensive\" not in txt)"
      ],
      "metadata": {
        "colab": {
          "base_uri": "https://localhost:8080/"
        },
        "id": "mhHpyKhfyyYB",
        "outputId": "6179d7d8-3b9e-4169-aadf-dd57a127b394"
      },
      "execution_count": 2,
      "outputs": [
        {
          "output_type": "stream",
          "name": "stdout",
          "text": [
            "True\n"
          ]
        }
      ]
    },
    {
      "cell_type": "code",
      "source": [
        "m= 'this course is a scam'\n",
        "if 'expensive' not in m:\n",
        "  print(\"no, 'expensive' is not present\")"
      ],
      "metadata": {
        "colab": {
          "base_uri": "https://localhost:8080/"
        },
        "id": "DRlrPIEjzSG4",
        "outputId": "5fec852e-b9ef-4638-e6b4-8b7a61db0eb9"
      },
      "execution_count": 8,
      "outputs": [
        {
          "output_type": "stream",
          "name": "stdout",
          "text": [
            "no, 'expensive' is not present\n"
          ]
        }
      ]
    },
    {
      "cell_type": "code",
      "source": [
        "x= input('enter in rupees')\n",
        "y= input('enter in paise')\n",
        "print ('you have asked for', x +'rupees',+y +'paise')\n"
      ],
      "metadata": {
        "colab": {
          "base_uri": "https://localhost:8080/",
          "height": 235
        },
        "id": "v0ycYDOfz9ya",
        "outputId": "8039172f-4fce-4f7e-c23b-fcf7e31de364"
      },
      "execution_count": 15,
      "outputs": [
        {
          "name": "stdout",
          "output_type": "stream",
          "text": [
            "enter in rupees3\n",
            "enter in paise2\n"
          ]
        },
        {
          "output_type": "error",
          "ename": "TypeError",
          "evalue": "ignored",
          "traceback": [
            "\u001b[0;31m---------------------------------------------------------------------------\u001b[0m",
            "\u001b[0;31mTypeError\u001b[0m                                 Traceback (most recent call last)",
            "\u001b[0;32m<ipython-input-15-a75a5a391f5c>\u001b[0m in \u001b[0;36m<module>\u001b[0;34m\u001b[0m\n\u001b[1;32m      1\u001b[0m \u001b[0mx\u001b[0m\u001b[0;34m=\u001b[0m \u001b[0minput\u001b[0m\u001b[0;34m(\u001b[0m\u001b[0;34m'enter in rupees'\u001b[0m\u001b[0;34m)\u001b[0m\u001b[0;34m\u001b[0m\u001b[0;34m\u001b[0m\u001b[0m\n\u001b[1;32m      2\u001b[0m \u001b[0my\u001b[0m\u001b[0;34m=\u001b[0m \u001b[0minput\u001b[0m\u001b[0;34m(\u001b[0m\u001b[0;34m'enter in paise'\u001b[0m\u001b[0;34m)\u001b[0m\u001b[0;34m\u001b[0m\u001b[0;34m\u001b[0m\u001b[0m\n\u001b[0;32m----> 3\u001b[0;31m \u001b[0mprint\u001b[0m \u001b[0;34m(\u001b[0m\u001b[0;34m'you have asked for'\u001b[0m\u001b[0;34m,\u001b[0m \u001b[0mx\u001b[0m \u001b[0;34m+\u001b[0m\u001b[0;34m'rupees'\u001b[0m\u001b[0;34m,\u001b[0m\u001b[0;34m+\u001b[0m\u001b[0my\u001b[0m \u001b[0;34m+\u001b[0m\u001b[0;34m'paise'\u001b[0m\u001b[0;34m)\u001b[0m\u001b[0;34m\u001b[0m\u001b[0;34m\u001b[0m\u001b[0m\n\u001b[0m",
            "\u001b[0;31mTypeError\u001b[0m: bad operand type for unary +: 'str'"
          ]
        }
      ]
    },
    {
      "cell_type": "code",
      "source": [
        "x= input('enter in rupees')\n",
        "y= input('enter in paise')\n",
        "print ('you have asked for', x, 'rupees', y, 'paise')"
      ],
      "metadata": {
        "colab": {
          "base_uri": "https://localhost:8080/"
        },
        "id": "hIB-o8FY3ErL",
        "outputId": "76ed10f5-79a2-407e-8f12-96eb96279ab7"
      },
      "execution_count": 7,
      "outputs": [
        {
          "output_type": "stream",
          "name": "stdout",
          "text": [
            "enter in rupees3\n",
            "enter in paise32\n",
            "you have asked for 3 rupees 32 paise\n"
          ]
        }
      ]
    },
    {
      "cell_type": "code",
      "source": [
        "m= 'this course does not support many things'\n",
        "m[0:]"
      ],
      "metadata": {
        "colab": {
          "base_uri": "https://localhost:8080/",
          "height": 35
        },
        "id": "gxH840Zg57zM",
        "outputId": "08d8649b-3e00-4b7e-d4d4-bee7d19a4cd9"
      },
      "execution_count": 16,
      "outputs": [
        {
          "output_type": "execute_result",
          "data": {
            "text/plain": [
              "'this course does not support many things'"
            ],
            "application/vnd.google.colaboratory.intrinsic+json": {
              "type": "string"
            }
          },
          "metadata": {},
          "execution_count": 16
        }
      ]
    },
    {
      "cell_type": "code",
      "source": [
        "m[:8]"
      ],
      "metadata": {
        "colab": {
          "base_uri": "https://localhost:8080/",
          "height": 35
        },
        "id": "CXKkjbWvAk2F",
        "outputId": "efc49faa-2baf-43c2-a24d-aef154afabd8"
      },
      "execution_count": 17,
      "outputs": [
        {
          "output_type": "execute_result",
          "data": {
            "text/plain": [
              "'this cou'"
            ],
            "application/vnd.google.colaboratory.intrinsic+json": {
              "type": "string"
            }
          },
          "metadata": {},
          "execution_count": 17
        }
      ]
    },
    {
      "cell_type": "code",
      "source": [
        "m[2:8:2]"
      ],
      "metadata": {
        "colab": {
          "base_uri": "https://localhost:8080/",
          "height": 35
        },
        "id": "dOAIn3RqApAP",
        "outputId": "44af72f4-24a0-415f-9475-6ec6c1db38a2"
      },
      "execution_count": 18,
      "outputs": [
        {
          "output_type": "execute_result",
          "data": {
            "text/plain": [
              "'i o'"
            ],
            "application/vnd.google.colaboratory.intrinsic+json": {
              "type": "string"
            }
          },
          "metadata": {},
          "execution_count": 18
        }
      ]
    },
    {
      "cell_type": "code",
      "source": [
        "m=' this is good'\n",
        "m.upper()"
      ],
      "metadata": {
        "colab": {
          "base_uri": "https://localhost:8080/",
          "height": 35
        },
        "id": "7ACWA8I9BB3F",
        "outputId": "ec3231ac-dfde-42eb-ccc8-fc75c9b270b0"
      },
      "execution_count": 20,
      "outputs": [
        {
          "output_type": "execute_result",
          "data": {
            "text/plain": [
              "' THIS IS GOOD'"
            ],
            "application/vnd.google.colaboratory.intrinsic+json": {
              "type": "string"
            }
          },
          "metadata": {},
          "execution_count": 20
        }
      ]
    },
    {
      "cell_type": "code",
      "source": [
        "m=' this is good'\n",
        "print(m.upper())"
      ],
      "metadata": {
        "colab": {
          "base_uri": "https://localhost:8080/"
        },
        "id": "nO4buk2zD8P1",
        "outputId": "4107a035-3736-4fc4-835f-7aa0b4c9ae4a"
      },
      "execution_count": 1,
      "outputs": [
        {
          "output_type": "stream",
          "name": "stdout",
          "text": [
            " THIS IS GOOD\n"
          ]
        }
      ]
    },
    {
      "cell_type": "code",
      "source": [
        " m= 'minnu is minnu'\n",
        " print(m.count('n'))"
      ],
      "metadata": {
        "colab": {
          "base_uri": "https://localhost:8080/"
        },
        "id": "Apf51kLQEEA0",
        "outputId": "74800a9b-3c9c-47d7-c047-544ce0f26835"
      },
      "execution_count": 2,
      "outputs": [
        {
          "output_type": "stream",
          "name": "stdout",
          "text": [
            "4\n"
          ]
        }
      ]
    },
    {
      "cell_type": "code",
      "source": [
        " m= 'minnu is minnu'\n",
        "m.count('n')"
      ],
      "metadata": {
        "colab": {
          "base_uri": "https://localhost:8080/"
        },
        "id": "9_Adz6qP03Y-",
        "outputId": "9e24e4b0-dfa4-496d-fac7-abea20c88d92"
      },
      "execution_count": 3,
      "outputs": [
        {
          "output_type": "execute_result",
          "data": {
            "text/plain": [
              "4"
            ]
          },
          "metadata": {},
          "execution_count": 3
        }
      ]
    },
    {
      "cell_type": "code",
      "source": [
        "a= 'data'\n",
        "b= 'analytics'\n",
        "c= 'python'\n",
        "print (a, b, 'using', c)"
      ],
      "metadata": {
        "colab": {
          "base_uri": "https://localhost:8080/"
        },
        "id": "n_tWL1-O0_Fu",
        "outputId": "4b11e0ce-3c48-485b-f529-aed5978a9878"
      },
      "execution_count": 4,
      "outputs": [
        {
          "output_type": "stream",
          "name": "stdout",
          "text": [
            "data analytics using python\n"
          ]
        }
      ]
    },
    {
      "cell_type": "code",
      "source": [
        "a= 'data'\n",
        "b= 'analytics'\n",
        "c= 'python'\n",
        "print(a+b+'using'+c)"
      ],
      "metadata": {
        "colab": {
          "base_uri": "https://localhost:8080/"
        },
        "id": "PiQQ_jSS2yQt",
        "outputId": "6170cee4-6e14-4fe6-fa24-88744c71d7de"
      },
      "execution_count": 5,
      "outputs": [
        {
          "output_type": "stream",
          "name": "stdout",
          "text": [
            "dataanalyticsusingpython\n"
          ]
        }
      ]
    },
    {
      "cell_type": "code",
      "source": [
        "a= 'data'\n",
        "b= 'analytics'\n",
        "c= 'python'\n",
        "print(\"{0} {1} using {2}\".format(a, b, c)) "
      ],
      "metadata": {
        "colab": {
          "base_uri": "https://localhost:8080/"
        },
        "id": "9fshdAo629qx",
        "outputId": "60c434f7-9a5d-4886-f714-5828f4824b1f"
      },
      "execution_count": 8,
      "outputs": [
        {
          "output_type": "stream",
          "name": "stdout",
          "text": [
            "data analytics using python\n"
          ]
        }
      ]
    },
    {
      "cell_type": "code",
      "source": [],
      "metadata": {
        "id": "_BIvf1uc40JA"
      },
      "execution_count": null,
      "outputs": []
    }
  ]
}